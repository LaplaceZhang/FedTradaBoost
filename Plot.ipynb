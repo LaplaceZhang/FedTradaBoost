{
 "cells": [
  {
   "cell_type": "markdown",
   "metadata": {},
   "source": [
    "## Federated learning with transfer approach in IDS for IoT/IIoT scenario\n",
    "\n",
    "@LaplaceZhang \n",
    "\n",
    "@marcusCarpenter97\n",
    "\n",
    "***\n",
    "\n",
    "### PROJECT NOTICE\n",
    "\n",
    "This is the main server of the federated learning system. Here we aim to use energy-constrained IoT devices to \n",
    "train a federated transfer learning module and get aggregation on this server. Considering limitations of IoT \n",
    "devices, public datasets should be small and the model need to be as light as possible, which implies the deep\n",
    "learning may not be a good choice for such a system. Here we choose TrAdaBoost, using AdaBoost for base learner,\n",
    "containing 100 base_estimators, run 30 iterations on each device, each round.\n",
    "\n",
    "***\n",
    "\n",
    "### BASIC WORKFLOW\n",
    "\n",
    "* START SERVER & CLIENT\n",
    "* USE following commands:\n",
    "* __SERVER__ - 1 for check number of connected devices\n",
    "* __SERVER__ - 4 for set up public samples to send (:cucumber: *pickle file*)\n",
    "* __CLIENT__ - 3 to print any received data\n",
    "* __SERVER__ - 2 initialization a public model AdaBoost & distribute to __CLIENT__\n",
    "* __CLIENT__ - 3 to print any received data \n",
    "* __CLIENT__ - 1 to start training TrAdaBoost _OR_  __CLIENT__ - 4 to start training AdaBoost (_NO TRANSFER_)\n",
    "* __SERVER__ - 3 to send message to __CLIENT__ in case client not return\n",
    "* __CLIENT__ - 2 for send updated model back to server (*pickle file*)\n",
    "* __SERVER__ - 4 to re-allocate public samples from database (__IF__: use sample weights for data re-arrange; __ELSE__: skip this)\n",
    "* __SERVER__ - 5 for model aggregation (__FedAvg__ *or* __Rank__), and return results using multiple binary datasets to test, as well as the overall score\n",
    "* __SERVER__ - 6 for aggregation with __Weighted Voting__\n",
    "* __SERVER__ - 2 send updated model back to clients\n",
    "* __SERVER__ - 7 stop connection\n",
    "\n",
    "ATTENTION: if any CLIENT got jammed, try use SERVER - 3 to send text message to target CLIENT\n",
    "\n",
    "ATTENTION: always remember to use - 3 on CLIENT to write received data into your file\n",
    "\n",
    "***\n",
    "\n",
    "### PAPER SUPPORTS\n",
    "\n",
    "Not released yet :no_entry_sign:\n",
    "\n",
    "***\n",
    "\n",
    "### To contact\n",
    "\n",
    "If you have any problems using this code, you may rise an issue on [GITHUB](https://github.com/LaplaceZhang/FedTradaBoost)."
   ]
  },
  {
   "cell_type": "markdown",
   "metadata": {},
   "source": [
    "## Image"
   ]
  },
  {
   "cell_type": "code",
   "execution_count": 1,
   "metadata": {},
   "outputs": [],
   "source": [
    "import numpy as np\n",
    "import pandas as pd\n",
    "import matplotlib as mpl\n",
    "import matplotlib.pyplot as plt\n",
    "import seaborn as sns"
   ]
  },
  {
   "cell_type": "code",
   "execution_count": 2,
   "metadata": {},
   "outputs": [
    {
     "data": {
      "text/html": [
       "<div>\n",
       "<style scoped>\n",
       "    .dataframe tbody tr th:only-of-type {\n",
       "        vertical-align: middle;\n",
       "    }\n",
       "\n",
       "    .dataframe tbody tr th {\n",
       "        vertical-align: top;\n",
       "    }\n",
       "\n",
       "    .dataframe thead th {\n",
       "        text-align: right;\n",
       "    }\n",
       "</style>\n",
       "<table border=\"1\" class=\"dataframe\">\n",
       "  <thead>\n",
       "    <tr style=\"text-align: right;\">\n",
       "      <th></th>\n",
       "      <th>NODE</th>\n",
       "      <th>AdaBoost(TL)</th>\n",
       "      <th>AdaBoost(NoTL)</th>\n",
       "      <th>SVM(TL)</th>\n",
       "      <th>SVM(NoTL)</th>\n",
       "    </tr>\n",
       "  </thead>\n",
       "  <tbody>\n",
       "    <tr>\n",
       "      <th>0</th>\n",
       "      <td>CLIENT1</td>\n",
       "      <td>0.8313</td>\n",
       "      <td>0.5762</td>\n",
       "      <td>0.1</td>\n",
       "      <td>0.1</td>\n",
       "    </tr>\n",
       "    <tr>\n",
       "      <th>1</th>\n",
       "      <td>CLIENT2</td>\n",
       "      <td>0.8761</td>\n",
       "      <td>0.7580</td>\n",
       "      <td>0.1</td>\n",
       "      <td>0.1</td>\n",
       "    </tr>\n",
       "    <tr>\n",
       "      <th>2</th>\n",
       "      <td>CLIENT3</td>\n",
       "      <td>0.8564</td>\n",
       "      <td>0.4890</td>\n",
       "      <td>0.1</td>\n",
       "      <td>0.1</td>\n",
       "    </tr>\n",
       "    <tr>\n",
       "      <th>3</th>\n",
       "      <td>CLIENT4</td>\n",
       "      <td>0.7841</td>\n",
       "      <td>0.6536</td>\n",
       "      <td>0.1</td>\n",
       "      <td>0.1</td>\n",
       "    </tr>\n",
       "    <tr>\n",
       "      <th>4</th>\n",
       "      <td>CLIENT5</td>\n",
       "      <td>0.8029</td>\n",
       "      <td>0.4928</td>\n",
       "      <td>0.1</td>\n",
       "      <td>0.1</td>\n",
       "    </tr>\n",
       "    <tr>\n",
       "      <th>5</th>\n",
       "      <td>SERVER (FedAvg)</td>\n",
       "      <td>0.8325</td>\n",
       "      <td>0.5761</td>\n",
       "      <td>0.1</td>\n",
       "      <td>0.1</td>\n",
       "    </tr>\n",
       "  </tbody>\n",
       "</table>\n",
       "</div>"
      ],
      "text/plain": [
       "              NODE  AdaBoost(TL)  AdaBoost(NoTL)  SVM(TL)  SVM(NoTL)\n",
       "0          CLIENT1        0.8313          0.5762      0.1        0.1\n",
       "1          CLIENT2        0.8761          0.7580      0.1        0.1\n",
       "2          CLIENT3        0.8564          0.4890      0.1        0.1\n",
       "3          CLIENT4        0.7841          0.6536      0.1        0.1\n",
       "4          CLIENT5        0.8029          0.4928      0.1        0.1\n",
       "5  SERVER (FedAvg)        0.8325          0.5761      0.1        0.1"
      ]
     },
     "execution_count": 2,
     "metadata": {},
     "output_type": "execute_result"
    }
   ],
   "source": [
    "data = pd.read_csv('./returned_log/plot.csv')\n",
    "data"
   ]
  },
  {
   "cell_type": "code",
   "execution_count": 3,
   "metadata": {},
   "outputs": [
    {
     "data": {
      "text/html": [
       "<div>\n",
       "<style scoped>\n",
       "    .dataframe tbody tr th:only-of-type {\n",
       "        vertical-align: middle;\n",
       "    }\n",
       "\n",
       "    .dataframe tbody tr th {\n",
       "        vertical-align: top;\n",
       "    }\n",
       "\n",
       "    .dataframe thead th {\n",
       "        text-align: right;\n",
       "    }\n",
       "</style>\n",
       "<table border=\"1\" class=\"dataframe\">\n",
       "  <thead>\n",
       "    <tr style=\"text-align: right;\">\n",
       "      <th></th>\n",
       "      <th>NODE</th>\n",
       "      <th>Methods</th>\n",
       "      <th>Accuracy</th>\n",
       "    </tr>\n",
       "  </thead>\n",
       "  <tbody>\n",
       "    <tr>\n",
       "      <th>0</th>\n",
       "      <td>CLIENT1</td>\n",
       "      <td>AdaBoost(TL)</td>\n",
       "      <td>0.8313</td>\n",
       "    </tr>\n",
       "    <tr>\n",
       "      <th>1</th>\n",
       "      <td>CLIENT2</td>\n",
       "      <td>AdaBoost(TL)</td>\n",
       "      <td>0.8761</td>\n",
       "    </tr>\n",
       "    <tr>\n",
       "      <th>2</th>\n",
       "      <td>CLIENT3</td>\n",
       "      <td>AdaBoost(TL)</td>\n",
       "      <td>0.8564</td>\n",
       "    </tr>\n",
       "    <tr>\n",
       "      <th>3</th>\n",
       "      <td>CLIENT4</td>\n",
       "      <td>AdaBoost(TL)</td>\n",
       "      <td>0.7841</td>\n",
       "    </tr>\n",
       "    <tr>\n",
       "      <th>4</th>\n",
       "      <td>CLIENT5</td>\n",
       "      <td>AdaBoost(TL)</td>\n",
       "      <td>0.8029</td>\n",
       "    </tr>\n",
       "    <tr>\n",
       "      <th>5</th>\n",
       "      <td>SERVER (FedAvg)</td>\n",
       "      <td>AdaBoost(TL)</td>\n",
       "      <td>0.8325</td>\n",
       "    </tr>\n",
       "    <tr>\n",
       "      <th>6</th>\n",
       "      <td>CLIENT1</td>\n",
       "      <td>AdaBoost(NoTL)</td>\n",
       "      <td>0.5762</td>\n",
       "    </tr>\n",
       "    <tr>\n",
       "      <th>7</th>\n",
       "      <td>CLIENT2</td>\n",
       "      <td>AdaBoost(NoTL)</td>\n",
       "      <td>0.7580</td>\n",
       "    </tr>\n",
       "    <tr>\n",
       "      <th>8</th>\n",
       "      <td>CLIENT3</td>\n",
       "      <td>AdaBoost(NoTL)</td>\n",
       "      <td>0.4890</td>\n",
       "    </tr>\n",
       "    <tr>\n",
       "      <th>9</th>\n",
       "      <td>CLIENT4</td>\n",
       "      <td>AdaBoost(NoTL)</td>\n",
       "      <td>0.6536</td>\n",
       "    </tr>\n",
       "    <tr>\n",
       "      <th>10</th>\n",
       "      <td>CLIENT5</td>\n",
       "      <td>AdaBoost(NoTL)</td>\n",
       "      <td>0.4928</td>\n",
       "    </tr>\n",
       "    <tr>\n",
       "      <th>11</th>\n",
       "      <td>SERVER (FedAvg)</td>\n",
       "      <td>AdaBoost(NoTL)</td>\n",
       "      <td>0.5761</td>\n",
       "    </tr>\n",
       "    <tr>\n",
       "      <th>12</th>\n",
       "      <td>CLIENT1</td>\n",
       "      <td>SVM(TL)</td>\n",
       "      <td>0.1000</td>\n",
       "    </tr>\n",
       "    <tr>\n",
       "      <th>13</th>\n",
       "      <td>CLIENT2</td>\n",
       "      <td>SVM(TL)</td>\n",
       "      <td>0.1000</td>\n",
       "    </tr>\n",
       "    <tr>\n",
       "      <th>14</th>\n",
       "      <td>CLIENT3</td>\n",
       "      <td>SVM(TL)</td>\n",
       "      <td>0.1000</td>\n",
       "    </tr>\n",
       "    <tr>\n",
       "      <th>15</th>\n",
       "      <td>CLIENT4</td>\n",
       "      <td>SVM(TL)</td>\n",
       "      <td>0.1000</td>\n",
       "    </tr>\n",
       "    <tr>\n",
       "      <th>16</th>\n",
       "      <td>CLIENT5</td>\n",
       "      <td>SVM(TL)</td>\n",
       "      <td>0.1000</td>\n",
       "    </tr>\n",
       "    <tr>\n",
       "      <th>17</th>\n",
       "      <td>SERVER (FedAvg)</td>\n",
       "      <td>SVM(TL)</td>\n",
       "      <td>0.1000</td>\n",
       "    </tr>\n",
       "    <tr>\n",
       "      <th>18</th>\n",
       "      <td>CLIENT1</td>\n",
       "      <td>SVM(NoTL)</td>\n",
       "      <td>0.1000</td>\n",
       "    </tr>\n",
       "    <tr>\n",
       "      <th>19</th>\n",
       "      <td>CLIENT2</td>\n",
       "      <td>SVM(NoTL)</td>\n",
       "      <td>0.1000</td>\n",
       "    </tr>\n",
       "    <tr>\n",
       "      <th>20</th>\n",
       "      <td>CLIENT3</td>\n",
       "      <td>SVM(NoTL)</td>\n",
       "      <td>0.1000</td>\n",
       "    </tr>\n",
       "    <tr>\n",
       "      <th>21</th>\n",
       "      <td>CLIENT4</td>\n",
       "      <td>SVM(NoTL)</td>\n",
       "      <td>0.1000</td>\n",
       "    </tr>\n",
       "    <tr>\n",
       "      <th>22</th>\n",
       "      <td>CLIENT5</td>\n",
       "      <td>SVM(NoTL)</td>\n",
       "      <td>0.1000</td>\n",
       "    </tr>\n",
       "    <tr>\n",
       "      <th>23</th>\n",
       "      <td>SERVER (FedAvg)</td>\n",
       "      <td>SVM(NoTL)</td>\n",
       "      <td>0.1000</td>\n",
       "    </tr>\n",
       "  </tbody>\n",
       "</table>\n",
       "</div>"
      ],
      "text/plain": [
       "               NODE         Methods  Accuracy\n",
       "0           CLIENT1    AdaBoost(TL)    0.8313\n",
       "1           CLIENT2    AdaBoost(TL)    0.8761\n",
       "2           CLIENT3    AdaBoost(TL)    0.8564\n",
       "3           CLIENT4    AdaBoost(TL)    0.7841\n",
       "4           CLIENT5    AdaBoost(TL)    0.8029\n",
       "5   SERVER (FedAvg)    AdaBoost(TL)    0.8325\n",
       "6           CLIENT1  AdaBoost(NoTL)    0.5762\n",
       "7           CLIENT2  AdaBoost(NoTL)    0.7580\n",
       "8           CLIENT3  AdaBoost(NoTL)    0.4890\n",
       "9           CLIENT4  AdaBoost(NoTL)    0.6536\n",
       "10          CLIENT5  AdaBoost(NoTL)    0.4928\n",
       "11  SERVER (FedAvg)  AdaBoost(NoTL)    0.5761\n",
       "12          CLIENT1         SVM(TL)    0.1000\n",
       "13          CLIENT2         SVM(TL)    0.1000\n",
       "14          CLIENT3         SVM(TL)    0.1000\n",
       "15          CLIENT4         SVM(TL)    0.1000\n",
       "16          CLIENT5         SVM(TL)    0.1000\n",
       "17  SERVER (FedAvg)         SVM(TL)    0.1000\n",
       "18          CLIENT1       SVM(NoTL)    0.1000\n",
       "19          CLIENT2       SVM(NoTL)    0.1000\n",
       "20          CLIENT3       SVM(NoTL)    0.1000\n",
       "21          CLIENT4       SVM(NoTL)    0.1000\n",
       "22          CLIENT5       SVM(NoTL)    0.1000\n",
       "23  SERVER (FedAvg)       SVM(NoTL)    0.1000"
      ]
     },
     "execution_count": 3,
     "metadata": {},
     "output_type": "execute_result"
    }
   ],
   "source": [
    "df = pd.melt(data, id_vars=\"NODE\", var_name=\"Methods\", value_name=\"Accuracy\")\n",
    "df"
   ]
  },
  {
   "cell_type": "code",
   "execution_count": 4,
   "metadata": {},
   "outputs": [
    {
     "name": "stderr",
     "output_type": "stream",
     "text": [
      "I:\\Anaconda3\\lib\\site-packages\\seaborn\\categorical.py:3714: UserWarning: The `factorplot` function has been renamed to `catplot`. The original name will be removed in a future release. Please update your code. Note that the default `kind` in `factorplot` (`'point'`) has changed `'strip'` in `catplot`.\n",
      "  warnings.warn(msg)\n"
     ]
    },
    {
     "data": {
      "image/png": "[encoded data removed]",
      "text/plain": [
       "<Figure size 476x360 with 1 Axes>"
      ]
     },
     "metadata": {
      "needs_background": "light"
     },
     "output_type": "display_data"
    }
   ],
   "source": [
    "sns.factorplot(x='NODE', y='Accuracy', hue='Methods', data=df, kind='bar')\n",
    "plt.show()"
   ]
  },
  {
   "cell_type": "code",
   "execution_count": 5,
   "metadata": {},
   "outputs": [
    {
     "name": "stderr",
     "output_type": "stream",
     "text": [
      "I:\\Anaconda3\\lib\\site-packages\\seaborn\\_decorators.py:36: FutureWarning: Pass the following variable as a keyword arg: x. From version 0.12, the only valid positional argument will be `data`, and passing other arguments without an explicit keyword will result in an error or misinterpretation.\n",
      "  warnings.warn(\n"
     ]
    },
    {
     "data": {
      "image/png": "[encoded data removed]",
      "text/plain": [
       "<Figure size 504x252 with 1 Axes>"
      ]
     },
     "metadata": {
      "needs_background": "light"
     },
     "output_type": "display_data"
    }
   ],
   "source": [
    "fig = plt.figure(figsize=(7,3.5))\n",
    "sns.barplot(\"NODE\", y=\"Accuracy\", hue='Methods', data=df, palette=\"mako\")\n",
    "# plt.legend(bbox_to_anchor=(1.02, 0.5), loc='upper left', borderaxespad=0)\n",
    "plt.legend(loc = 'lower right')\n",
    "fig.savefig(\"accuracy.png\", dpi = 500)"
   ]
  },
  {
   "cell_type": "markdown",
   "metadata": {},
   "source": [
    "***"
   ]
  },
  {
   "cell_type": "code",
   "execution_count": 6,
   "metadata": {},
   "outputs": [
    {
     "data": {
      "image/png": "[encoded data removed]",
      "text/plain": [
       "<Figure size 432x288 with 1 Axes>"
      ]
     },
     "metadata": {
      "needs_background": "light"
     },
     "output_type": "display_data"
    }
   ],
   "source": [
    "import numpy as np\n",
    "import matplotlib.pyplot as plt\n",
    "\n",
    "size = 4\n",
    "x = np.arange(size)\n",
    "# F1, ACC, TPR, FPR\n",
    "a = [0.9526, 0.9597, 0, 0]\n",
    "b = [0.762867, 0.755466666, 0.789666, 0.0380666]\n",
    "c = [0.79267691, 0.8325333, 0.791166, 0.03775]\n",
    "\n",
    "total_width, n = 0.8, 3\n",
    "width = total_width / n\n",
    "x = x - (total_width - width) / 2\n",
    "\n",
    "plt.bar(x, a,  width=width, label='WeightedVoting')\n",
    "plt.bar(x + width, b, width=width, label='Rank')\n",
    "plt.bar(x + 2 * width, c, width=width, label='FedAvg')\n",
    "plt.legend(loc = 'lower left')\n",
    "plt.show()"
   ]
  },
  {
   "cell_type": "code",
   "execution_count": 52,
   "metadata": {},
   "outputs": [
    {
     "data": {
      "image/png": "[encoded data removed]",
      "text/plain": [
       "<Figure size 432x288 with 1 Axes>"
      ]
     },
     "metadata": {
      "needs_background": "light"
     },
     "output_type": "display_data"
    }
   ],
   "source": [
    "import numpy as np\n",
    "import matplotlib.pyplot as plt\n",
    "from matplotlib import cm\n",
    "\n",
    "N = 4\n",
    "ind = np.arange(N)  # the x locations for the groups\n",
    "width = 0.27       # the width of the bars\n",
    "\n",
    "fig = plt.figure()\n",
    "ax = fig.add_subplot(111)\n",
    "\n",
    "# F1, ACC, TPR, FPR\n",
    "yvals = [0.9526, 0.9597, 0.9501, 0.008]\n",
    "rects1 = ax.bar(ind, yvals, width, color = 'tomato')\n",
    "zvals = [0.762867, 0.755466666, 0.789666, 0.0380666]\n",
    "rects2 = ax.bar(ind+width, zvals, width, color = 'lightsalmon')\n",
    "kvals = [0.79267691, 0.8325333, 0.791166, 0.03775]\n",
    "rects3 = ax.bar(ind+width*2, kvals, width, color = 'moccasin')\n",
    "\n",
    "ax.set_ylabel('Results')\n",
    "ax.set_xticks(ind+width)\n",
    "ax.set_xticklabels( ('F1 score', 'Accuracy', 'TPR', 'FPR') )\n",
    "plt.legend(handles = [rects1, rects2,rects3],bbox_to_anchor=(1.45,0.618), labels = ['WeightedVoting', 'Rank', 'FedAvg'], loc = 'best', fontsize = 'large')\n",
    "\n",
    "fig.savefig(\"aggregation.png\", dpi = 300,bbox_inches = 'tight')\n",
    "plt.show()"
   ]
  },
  {
   "cell_type": "code",
   "execution_count": null,
   "metadata": {},
   "outputs": [],
   "source": []
  }
 ],
 "metadata": {
  "kernelspec": {
   "display_name": "Python 3",
   "language": "python",
   "name": "python3"
  },
  "language_info": {
   "codemirror_mode": {
    "name": "ipython",
    "version": 3
   },
   "file_extension": ".py",
   "mimetype": "text/x-python",
   "name": "python",
   "nbconvert_exporter": "python",
   "pygments_lexer": "ipython3",
   "version": "3.8.8"
  }
 },
 "nbformat": 4,
 "nbformat_minor": 2
}
